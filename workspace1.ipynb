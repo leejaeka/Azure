{
 "cells": [
  {
   "cell_type": "code",
   "execution_count": 2,
   "metadata": {},
   "outputs": [
    {
     "name": "stderr",
     "output_type": "stream",
     "text": [
      "Failure while loading azureml_run_type_providers. Failed to load entrypoint automl = azureml.train.automl.run:AutoMLRun._from_run_dto with exception (cryptography 3.1.1 (c:\\users\\tonyl\\anaconda3\\lib\\site-packages), Requirement.parse('cryptography<4.0.0,>=3.3.1; extra == \"crypto\"'), {'PyJWT'}).\n"
     ]
    },
    {
     "name": "stdout",
     "output_type": "stream",
     "text": [
      "1.28.0\n"
     ]
    }
   ],
   "source": [
    "import azureml.core\n",
    "print(azureml.core.VERSION)"
   ]
  },
  {
   "cell_type": "code",
   "execution_count": 9,
   "metadata": {},
   "outputs": [
    {
     "name": "stderr",
     "output_type": "stream",
     "text": [
      "UserWarning: The resource group doesn't exist or was not provided. AzureML SDK is creating a resource group=myresourcegroup in location=eastus2 using subscription=535a47ed-8a9f-40a9-a3fb-7c680cbacbc5.\n"
     ]
    },
    {
     "name": "stdout",
     "output_type": "stream",
     "text": [
      "Deploying StorageAccount with name myworkspstoragef13b04f87.\n",
      "Deploying KeyVault with name myworkspkeyvault6f71cddb.\n",
      "Deploying AppInsights with name myworkspinsights21471c06.\n",
      "Deployed AppInsights with name myworkspinsights21471c06. Took 2.93 seconds.\n",
      "Deployed KeyVault with name myworkspkeyvault6f71cddb. Took 19.1 seconds.\n",
      "Deployed StorageAccount with name myworkspstoragef13b04f87. Took 25.25 seconds.\n",
      "Deploying Workspace with name myworkspace.\n",
      "Deployed Workspace with name myworkspace. Took 70.75 seconds.\n"
     ]
    }
   ],
   "source": [
    "from azureml.core import Workspace\n",
    "ws = Workspace.create(name='myworkspace',\n",
    "               subscription_id='535a47ed-8a9f-40a9-a3fb-7c680cbacbc5',\n",
    "               resource_group='myresourcegroup',\n",
    "               create_resource_group=True,\n",
    "               location='eastus2'\n",
    "               )"
   ]
  },
  {
   "cell_type": "code",
   "execution_count": 10,
   "metadata": {},
   "outputs": [
    {
     "name": "stdout",
     "output_type": "stream",
     "text": [
      "myworkspace\n"
     ]
    }
   ],
   "source": [
    "print(ws.name)"
   ]
  },
  {
   "cell_type": "code",
   "execution_count": 11,
   "metadata": {},
   "outputs": [],
   "source": [
    "from azureml.core import Experiment\n",
    "import pandas as pd\n",
    "import matplotlib.pyplot as plt\n",
    "%matplotlib inline"
   ]
  },
  {
   "cell_type": "code",
   "execution_count": 13,
   "metadata": {},
   "outputs": [
    {
     "name": "stdout",
     "output_type": "stream",
     "text": [
      "diabetes-experiment\n"
     ]
    }
   ],
   "source": [
    "experiment = Experiment(workspace = ws, name=\"diabetes-experiment\")\n",
    "run = experiment.start_logging()\n",
    "print(experiment.name)"
   ]
  },
  {
   "cell_type": "code",
   "execution_count": 16,
   "metadata": {},
   "outputs": [],
   "source": [
    "data = pd.read_csv('data/data/diabetes.csv')"
   ]
  },
  {
   "cell_type": "code",
   "execution_count": 19,
   "metadata": {},
   "outputs": [
    {
     "name": "stdout",
     "output_type": "stream",
     "text": [
      "10000\n"
     ]
    }
   ],
   "source": [
    "rows = len(data)\n",
    "run.log('observations', rows)\n",
    "print(rows)"
   ]
  },
  {
   "cell_type": "code",
   "execution_count": 20,
   "metadata": {},
   "outputs": [
    {
     "data": {
      "image/png": "[encoded data removed]",
      "text/plain": [
       "<Figure size 432x432 with 1 Axes>"
      ]
     },
     "metadata": {
      "needs_background": "light"
     },
     "output_type": "display_data"
    }
   ],
   "source": [
    "d_count = data['Diabetic'].value_counts()\n",
    "fig = plt.figure(figsize=(6,6))\n",
    "ax=fig.gca()\n",
    "d_count.plot.bar(ax=ax)\n",
    "ax.set_title(\"Patients with Diabetes\")\n",
    "ax.set_xlabel('Diagnosis')\n",
    "ax.set_ylabel('Patients')\n",
    "plt.show()\n",
    "run.log_image(name=\"label distribution\", plot=fig)"
   ]
  },
  {
   "cell_type": "code",
   "execution_count": 21,
   "metadata": {},
   "outputs": [],
   "source": [
    "preg = data.Pregnancies.unique()\n",
    "run.log_list('preg_cat', preg)"
   ]
  },
  {
   "cell_type": "code",
   "execution_count": 23,
   "metadata": {},
   "outputs": [],
   "source": [
    "med_col = ['PlasmaGlucose', 'DiastolicBloodPressure', 'TricepsThickness', 'SerumInsulin', 'BMI']\n",
    "stats = data[med_col].describe().to_dict()\n",
    "for col in stats:\n",
    "    keys = list(stats[col].keys())\n",
    "    values = list(stats[col].values())\n",
    "    for i in range(len(keys)):\n",
    "        run.log_row(col,stat=keys[i], value = values[i])"
   ]
  },
  {
   "cell_type": "code",
   "execution_count": 24,
   "metadata": {},
   "outputs": [],
   "source": [
    "data.sample(100).to_csv('sample.csv', index=False, header=True)\n",
    "run.upload_file(name='outputs/sample.csv', path_or_stream='./sample.csv')\n",
    "\n",
    "run.complete()"
   ]
  },
  {
   "cell_type": "markdown",
   "metadata": {},
   "source": [
    "## Experiment Results"
   ]
  },
  {
   "cell_type": "code",
   "execution_count": 29,
   "metadata": {},
   "outputs": [
    {
     "name": "stdout",
     "output_type": "stream",
     "text": [
      "{'runId': '0ce9bb56-f9a8-449c-b2ee-5faf1909bb2a', 'target': 'local', 'status': 'Completed', 'startTimeUtc': '2021-05-12T04:50:03.845039Z', 'endTimeUtc': '2021-05-12T04:56:27.806178Z', 'properties': {'ContentSnapshotId': 'a68078a8-85e1-49ba-be00-8b444daf046b'}, 'inputDatasets': [], 'outputDatasets': [], 'logFiles': {}, 'submittedBy': 'Jaekang Lee'}\n",
      "NOTICE ME{\n",
      "  \"observations\": 10000,\n",
      "  \"label distribution\": \"aml://artifactId/ExperimentRun/dcid.0ce9bb56-f9a8-449c-b2ee-5faf1909bb2a/label distribution_1620795178.png\",\n",
      "  \"preg_cat\": [\n",
      "    0,\n",
      "    8,\n",
      "    7,\n",
      "    9,\n",
      "    1,\n",
      "    3,\n",
      "    5,\n",
      "    2,\n",
      "    6,\n",
      "    11,\n",
      "    4,\n",
      "    13,\n",
      "    10,\n",
      "    12,\n",
      "    14\n",
      "  ],\n",
      "  \"PlasmaGlucose\": {\n",
      "    \"stat\": [\n",
      "      \"count\",\n",
      "      \"mean\",\n",
      "      \"std\",\n",
      "      \"min\",\n",
      "      \"25%\",\n",
      "      \"50%\",\n",
      "      \"75%\",\n",
      "      \"max\"\n",
      "    ],\n",
      "    \"value\": [\n",
      "      10000.0,\n",
      "      107.8502,\n",
      "      31.920909360565563,\n",
      "      44.0,\n",
      "      84.0,\n",
      "      105.0,\n",
      "      129.0,\n",
      "      192.0\n",
      "    ]\n",
      "  },\n",
      "  \"DiastolicBloodPressure\": {\n",
      "    \"stat\": [\n",
      "      \"count\",\n",
      "      \"mean\",\n",
      "      \"std\",\n",
      "      \"min\",\n",
      "      \"25%\",\n",
      "      \"50%\",\n",
      "      \"75%\",\n",
      "      \"max\"\n",
      "    ],\n",
      "    \"value\": [\n",
      "      10000.0,\n",
      "      71.2075,\n",
      "      16.801478289640706,\n",
      "      24.0,\n",
      "      58.0,\n",
      "      72.0,\n",
      "      85.0,\n",
      "      117.0\n",
      "    ]\n",
      "  },\n",
      "  \"TricepsThickness\": {\n",
      "    \"stat\": [\n",
      "      \"count\",\n",
      "      \"mean\",\n",
      "      \"std\",\n",
      "      \"min\",\n",
      "      \"25%\",\n",
      "      \"50%\",\n",
      "      \"75%\",\n",
      "      \"max\"\n",
      "    ],\n",
      "    \"value\": [\n",
      "      10000.0,\n",
      "      28.8176,\n",
      "      14.506480415228332,\n",
      "      7.0,\n",
      "      15.0,\n",
      "      31.0,\n",
      "      41.0,\n",
      "      92.0\n",
      "    ]\n",
      "  },\n",
      "  \"SerumInsulin\": {\n",
      "    \"stat\": [\n",
      "      \"count\",\n",
      "      \"mean\",\n",
      "      \"std\",\n",
      "      \"min\",\n",
      "      \"25%\",\n",
      "      \"50%\",\n",
      "      \"75%\",\n",
      "      \"max\"\n",
      "    ],\n",
      "    \"value\": [\n",
      "      10000.0,\n",
      "      139.2436,\n",
      "      133.77791937465278,\n",
      "      14.0,\n",
      "      39.0,\n",
      "      85.0,\n",
      "      197.0,\n",
      "      796.0\n",
      "    ]\n",
      "  },\n",
      "  \"BMI\": {\n",
      "    \"stat\": [\n",
      "      \"count\",\n",
      "      \"mean\",\n",
      "      \"std\",\n",
      "      \"min\",\n",
      "      \"25%\",\n",
      "      \"50%\",\n",
      "      \"75%\",\n",
      "      \"max\"\n",
      "    ],\n",
      "    \"value\": [\n",
      "      10000.0,\n",
      "      31.56702174359113,\n",
      "      9.804365693559113,\n",
      "      18.20080735,\n",
      "      21.247426835,\n",
      "      31.922420785,\n",
      "      39.3289214475,\n",
      "      56.03462763\n",
      "    ]\n",
      "  }\n",
      "}\n",
      "[\n",
      "  \"label distribution_1620795178.png\",\n",
      "  \"outputs/sample.csv\"\n",
      "]\n"
     ]
    }
   ],
   "source": [
    "import json\n",
    "details = run.get_details()\n",
    "print(details)\n",
    "print(\"NOTICE ME\"+str(json.dumps(run.get_metrics(), indent=2)))\n",
    "print(\"NOTICE ME 2\"+str(json.dumps(run.get_file_names(), indent=2)))"
   ]
  },
  {
   "cell_type": "code",
   "execution_count": null,
   "metadata": {},
   "outputs": [],
   "source": [
    "()"
   ]
  }
 ],
 "metadata": {
  "kernelspec": {
   "display_name": "Python 3",
   "language": "python",
   "name": "python3"
  },
  "language_info": {
   "codemirror_mode": {
    "name": "ipython",
    "version": 3
   },
   "file_extension": ".py",
   "mimetype": "text/x-python",
   "name": "python",
   "nbconvert_exporter": "python",
   "pygments_lexer": "ipython3",
   "version": "3.8.5"
  }
 },
 "nbformat": 4,
 "nbformat_minor": 4
}
